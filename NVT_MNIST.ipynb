{
 "cells": [
  {
   "cell_type": "code",
   "execution_count": 1,
   "metadata": {
    "colab": {
     "base_uri": "https://localhost:8080/"
    },
    "executionInfo": {
     "elapsed": 13173,
     "status": "ok",
     "timestamp": 1711683832041,
     "user": {
      "displayName": "林阿立",
      "userId": "02625591185846790567"
     },
     "user_tz": -480
    },
    "id": "OCZv7dC_sSax",
    "outputId": "d13368f5-67c2-4d5f-9312-487a22d43cc5"
   },
   "outputs": [
    {
     "name": "stdout",
     "output_type": "stream",
     "text": [
      "2.10.0\n"
     ]
    }
   ],
   "source": [
    "import tensorflow as tf\n",
    "print(tf.__version__)\n"
   ]
  },
  {
   "cell_type": "code",
   "execution_count": 137,
   "metadata": {
    "executionInfo": {
     "elapsed": 527,
     "status": "ok",
     "timestamp": 1711683832566,
     "user": {
      "displayName": "林阿立",
      "userId": "02625591185846790567"
     },
     "user_tz": -480
    },
    "id": "bRcTMAdqzKFR"
   },
   "outputs": [],
   "source": [
    "import cv2\n",
    "import os\n",
    "from PIL import Image"
   ]
  },
  {
   "cell_type": "code",
   "execution_count": 125,
   "metadata": {
    "executionInfo": {
     "elapsed": 760,
     "status": "ok",
     "timestamp": 1711683848193,
     "user": {
      "displayName": "林阿立",
      "userId": "02625591185846790567"
     },
     "user_tz": -480
    },
    "id": "qWRmWW97rIGc"
   },
   "outputs": [],
   "source": [
    "from keras.datasets import mnist\n",
    "import numpy as np\n",
    "import matplotlib.pyplot as plt\n",
    "import random\n",
    "np.random.seed(10)"
   ]
  },
  {
   "cell_type": "markdown",
   "metadata": {},
   "source": [
    "## A. mnist_c (mnist_corrupted)\n",
    "- User only need to choose mnist or mnist_corrupted"
   ]
  },
  {
   "cell_type": "code",
   "execution_count": 170,
   "metadata": {},
   "outputs": [
    {
     "name": "stdout",
     "output_type": "stream",
     "text": [
      "brightness\n",
      "canny_edges\n",
      "dotted_line\n",
      "fog\n",
      "glass_blur\n",
      "identity\n",
      "impulse_noise\n",
      "motion_blur\n",
      "rotate\n",
      "scale\n",
      "shear\n",
      "shot_noise\n",
      "spatter\n",
      "stripe\n",
      "translate\n",
      "zigzag\n"
     ]
    }
   ],
   "source": [
    "directory_path = 'mnist_c'\n",
    "train_data_x = []\n",
    "train_data_y = []\n",
    "test_data_x  = []\n",
    "test_data_y  = []\n",
    "\n",
    "for item in os.listdir(directory_path):\n",
    "    # Create the full path of the item\n",
    "    item_path = os.path.join(directory_path, item)\n",
    "    \n",
    "    # Check if the item is a directory\n",
    "    if os.path.isdir(item_path):\n",
    "        print(item)\n",
    "        train_data_x.append(np.load('mnist_c/{}/train_images.npy'.format(item)))\n",
    "        train_data_y.append(np.load('mnist_c/{}/train_labels.npy'.format(item)))\n",
    "\n",
    "        test_data_x.append(np.load('mnist_c/{}/test_images.npy'.format(item)))\n",
    "        test_data_y.append(np.load('mnist_c/{}/test_labels.npy'.format(item)))\n",
    "\n",
    "train_np_x = np.concatenate(train_data_x)\n",
    "train_np_y = np.concatenate(train_data_y)\n",
    "test_np_x = np.concatenate(test_data_x)\n",
    "test_np_y = np.concatenate(test_data_y)\n",
    "        "
   ]
  },
  {
   "cell_type": "markdown",
   "metadata": {},
   "source": [
    "## A. Preprocess"
   ]
  },
  {
   "cell_type": "code",
   "execution_count": 150,
   "metadata": {},
   "outputs": [
    {
     "name": "stdout",
     "output_type": "stream",
     "text": [
      "(28, 28, 1) (960000,)\n"
     ]
    }
   ],
   "source": [
    "print(train_np_x.shape, train_np_y.shape)"
   ]
  },
  {
   "cell_type": "code",
   "execution_count": 164,
   "metadata": {},
   "outputs": [
    {
     "name": "stdout",
     "output_type": "stream",
     "text": [
      "(28, 28)\n"
     ]
    },
    {
     "data": {
      "text/plain": [
       "<matplotlib.image.AxesImage at 0x1f20a368af0>"
      ]
     },
     "execution_count": 164,
     "metadata": {},
     "output_type": "execute_result"
    },
    {
     "data": {
      "image/png": "[encoded data removed]",
      "text/plain": [
       "<Figure size 640x480 with 1 Axes>"
      ]
     },
     "metadata": {},
     "output_type": "display_data"
    }
   ],
   "source": [
    "ret, img = cv2.threshold(train_np_x[120000],127,255,cv2.THRESH_BINARY)\n",
    "print(img.shape)\n",
    "plt.imshow(img, cmap=\"gray\")"
   ]
  },
  {
   "cell_type": "code",
   "execution_count": 177,
   "metadata": {},
   "outputs": [],
   "source": [
    "def grayscale_thresholded(grayscale_images):\n",
    "    # Apply thresholding to each image in the array\n",
    "   thresholded_images = np.zeros_like(grayscale_images)\n",
    "    \n",
    "   for i in range(grayscale_images.shape[0]):\n",
    "       # Get a single grayscale image from the array\n",
    "       grayscale_image = grayscale_images[i, :, :, 0]\n",
    "       \n",
    "       # Apply thresholding using cv.threshold()\n",
    "       ret, thresholded_image = cv2.threshold(grayscale_image, 127, 255, cv2.THRESH_BINARY)\n",
    "       \n",
    "       # Add a new axis to the thresholded image to make it compatible with the original shape\n",
    "       thresholded_image = thresholded_image[:, :, np.newaxis]\n",
    "       \n",
    "       # Store the thresholded image in the output array\n",
    "       thresholded_images[i, :, :, :] = thresholded_image\n",
    "   return thresholded_images     "
   ]
  },
  {
   "cell_type": "code",
   "execution_count": 178,
   "metadata": {},
   "outputs": [
    {
     "name": "stdout",
     "output_type": "stream",
     "text": [
      "(960000, 28, 28, 1) (160000, 28, 28, 1)\n",
      "(960000, 10) (160000, 10)\n"
     ]
    }
   ],
   "source": [
    "#ret, train_np_x_BIN = cv2.threshold(train_np_x,127,255,cv2.THRESH_BINARY)\n",
    "#ret, test_np_x_BIN = cv2.threshold(test_np_x,127,255,cv2.THRESH_BINARY)\n",
    "\n",
    "train_np_x_BIN = grayscale_thresholded(train_np_x)\n",
    "test_np_x_BIN = grayscale_thresholded(test_np_x)\n",
    "\n",
    "x_Train4D=train_np_x_BIN.astype('float32')\n",
    "x_Test4D =test_np_x_BIN.astype('float32')\n",
    "x_Train4D_normalize = x_Train4D / 255\n",
    "x_Test4D_normalize  = x_Test4D / 255\n",
    "\n",
    "y_TrainOneHot = tf.keras.utils.to_categorical(train_np_y)\n",
    "y_TestOneHot = tf.keras.utils.to_categorical(test_np_y)\n",
    "\n",
    "print(x_Train4D_normalize.shape, x_Test4D_normalize.shape)\n",
    "print(y_TrainOneHot.shape, y_TestOneHot.shape)"
   ]
  },
  {
   "cell_type": "code",
   "execution_count": 180,
   "metadata": {},
   "outputs": [
    {
     "name": "stdout",
     "output_type": "stream",
     "text": [
      "(28, 28)\n"
     ]
    },
    {
     "data": {
      "text/plain": [
       "<matplotlib.image.AxesImage at 0x1f1ef10c220>"
      ]
     },
     "execution_count": 180,
     "metadata": {},
     "output_type": "execute_result"
    },
    {
     "data": {
      "image/png": "[encoded data removed]",
      "text/plain": [
       "<Figure size 640x480 with 1 Axes>"
      ]
     },
     "metadata": {},
     "output_type": "display_data"
    }
   ],
   "source": [
    "ret, img = cv2.threshold(train_np_x_BIN[120000],127,255,cv2.THRESH_BINARY)\n",
    "print(img.shape)\n",
    "plt.imshow(img, cmap=\"gray\")"
   ]
  },
  {
   "cell_type": "markdown",
   "metadata": {},
   "source": [
    "## B. mnist"
   ]
  },
  {
   "cell_type": "code",
   "execution_count": 42,
   "metadata": {
    "colab": {
     "base_uri": "https://localhost:8080/"
    },
    "executionInfo": {
     "elapsed": 1161,
     "status": "ok",
     "timestamp": 1711683849352,
     "user": {
      "displayName": "林阿立",
      "userId": "02625591185846790567"
     },
     "user_tz": -480
    },
    "id": "mMCxfmCssfWy",
    "outputId": "b62cde8c-b359-442b-b286-81d3f89aebf5"
   },
   "outputs": [],
   "source": [
    "(x_Train, y_Train), (x_Test, y_Test) = mnist.load_data()"
   ]
  },
  {
   "cell_type": "markdown",
   "metadata": {},
   "source": [
    "## B. Preprocess"
   ]
  },
  {
   "cell_type": "code",
   "execution_count": 43,
   "metadata": {
    "executionInfo": {
     "elapsed": 4,
     "status": "ok",
     "timestamp": 1711683849352,
     "user": {
      "displayName": "林阿立",
      "userId": "02625591185846790567"
     },
     "user_tz": -480
    },
    "id": "oYx16KF4SGyB"
   },
   "outputs": [],
   "source": [
    "def binarize_grayimg(gray_img, threshold, len, binary_img):\n",
    "  for l in range(len):\n",
    "   for i in range(28):\n",
    "    for j in range(28):\n",
    "      if(gray_img[l,i,j]> threshold):\n",
    "        binary_img[l,i,j] = 255\n",
    "      else:\n",
    "        binary_img[l,i,j] = 0"
   ]
  },
  {
   "cell_type": "code",
   "execution_count": 44,
   "metadata": {
    "colab": {
     "base_uri": "https://localhost:8080/"
    },
    "executionInfo": {
     "elapsed": 4,
     "status": "ok",
     "timestamp": 1711683849352,
     "user": {
      "displayName": "林阿立",
      "userId": "02625591185846790567"
     },
     "user_tz": -480
    },
    "id": "jvNE2LUkQYi8",
    "outputId": "ad2ead0b-28ba-45a2-9f03-3547a55b4c89"
   },
   "outputs": [
    {
     "data": {
      "text/plain": [
       "(60000, 28, 28)"
      ]
     },
     "execution_count": 44,
     "metadata": {},
     "output_type": "execute_result"
    }
   ],
   "source": [
    "(x_Train).shape"
   ]
  },
  {
   "cell_type": "code",
   "execution_count": 8,
   "metadata": {
    "executionInfo": {
     "elapsed": 3,
     "status": "ok",
     "timestamp": 1711683849352,
     "user": {
      "displayName": "林阿立",
      "userId": "02625591185846790567"
     },
     "user_tz": -480
    },
    "id": "Ka3vhMSZUUD4"
   },
   "outputs": [
    {
     "data": {
      "text/plain": [
       "<matplotlib.image.AxesImage at 0x1eb4b216c40>"
      ]
     },
     "execution_count": 8,
     "metadata": {},
     "output_type": "execute_result"
    },
    {
     "data": {
      "image/png": "[encoded data removed]",
      "text/plain": [
       "<Figure size 640x480 with 1 Axes>"
      ]
     },
     "metadata": {},
     "output_type": "display_data"
    }
   ],
   "source": [
    "#kernel = np.ones((4,4),np.float32)/16\n",
    "#dst = cv2.filter2D(x_Train[7],-1,kernel)\n",
    "imageread = x_Train[0]\n",
    "dst = cv2.medianBlur(imageread, 3)\n",
    "plt.imshow(dst, cmap=\"gray\")"
   ]
  },
  {
   "cell_type": "code",
   "execution_count": 9,
   "metadata": {
    "executionInfo": {
     "elapsed": 4,
     "status": "ok",
     "timestamp": 1711683849815,
     "user": {
      "displayName": "林阿立",
      "userId": "02625591185846790567"
     },
     "user_tz": -480
    },
    "id": "3Iu1wj2a4xCQ"
   },
   "outputs": [
    {
     "data": {
      "text/plain": [
       "<matplotlib.image.AxesImage at 0x1eb4b2756a0>"
      ]
     },
     "execution_count": 9,
     "metadata": {},
     "output_type": "execute_result"
    },
    {
     "data": {
      "image/png": "[encoded data removed]",
      "text/plain": [
       "<Figure size 640x480 with 1 Axes>"
      ]
     },
     "metadata": {},
     "output_type": "display_data"
    }
   ],
   "source": [
    "x_Train_b = np.zeros((len(x_Train), 28, 28), dtype=np.uint8)\n",
    "dst_b = np.zeros((28, 28), dtype=np.uint8)\n",
    "\n",
    "#binarize_grayimg(dst_b, 30, 1, x_Train_b[0])\n",
    "\n",
    "dst = x_Train[0]\n",
    "threshold = 100\n",
    "for i in range(28):\n",
    "  for j in range(28):\n",
    "     if(dst[i,j]> threshold):\n",
    "       dst_b[i,j] = 255\n",
    "     else:\n",
    "       dst_b[i,j] = 0\n",
    "\n",
    "plt.imshow(dst_b, cmap=\"gray\")"
   ]
  },
  {
   "cell_type": "code",
   "execution_count": 10,
   "metadata": {
    "executionInfo": {
     "elapsed": 3,
     "status": "ok",
     "timestamp": 1711683850382,
     "user": {
      "displayName": "林阿立",
      "userId": "02625591185846790567"
     },
     "user_tz": -480
    },
    "id": "PXr5_AzJ8z2H"
   },
   "outputs": [
    {
     "data": {
      "text/plain": [
       "<matplotlib.image.AxesImage at 0x1eb4b2e6ca0>"
      ]
     },
     "execution_count": 10,
     "metadata": {},
     "output_type": "execute_result"
    },
    {
     "data": {
      "image/png": "[encoded data removed]",
      "text/plain": [
       "<Figure size 640x480 with 1 Axes>"
      ]
     },
     "metadata": {},
     "output_type": "display_data"
    }
   ],
   "source": [
    "kernel = np.ones((4,4),np.float32)/16\n",
    "dst_b = cv2.filter2D(dst_b,-1,kernel)\n",
    "plt.imshow(dst_b, cmap=\"gray\")"
   ]
  },
  {
   "cell_type": "code",
   "execution_count": 11,
   "metadata": {
    "colab": {
     "base_uri": "https://localhost:8080/",
     "height": 447
    },
    "executionInfo": {
     "elapsed": 5,
     "status": "ok",
     "timestamp": 1711683850944,
     "user": {
      "displayName": "林阿立",
      "userId": "02625591185846790567"
     },
     "user_tz": -480
    },
    "id": "SccSeOTBIEoO",
    "outputId": "fb64c585-3de2-40af-bfd4-6259546d7bb2"
   },
   "outputs": [
    {
     "data": {
      "text/plain": [
       "<matplotlib.image.AxesImage at 0x1eb4b358d00>"
      ]
     },
     "execution_count": 11,
     "metadata": {},
     "output_type": "execute_result"
    },
    {
     "data": {
      "image/png": "[encoded data removed]",
      "text/plain": [
       "<Figure size 640x480 with 1 Axes>"
      ]
     },
     "metadata": {},
     "output_type": "display_data"
    }
   ],
   "source": [
    "threshold = 100\n",
    "for i in range(28):\n",
    "  for j in range(28):\n",
    "     if(dst_b[i,j]> threshold):\n",
    "       dst_b[i,j] = 255\n",
    "     else:\n",
    "       dst_b[i,j] = 0\n",
    "\n",
    "plt.imshow(dst_b, cmap=\"gray\")"
   ]
  },
  {
   "cell_type": "code",
   "execution_count": 12,
   "metadata": {
    "executionInfo": {
     "elapsed": 495,
     "status": "ok",
     "timestamp": 1711683851435,
     "user": {
      "displayName": "林阿立",
      "userId": "02625591185846790567"
     },
     "user_tz": -480
    },
    "id": "rhnf8Tc7Tzsd"
   },
   "outputs": [
    {
     "data": {
      "image/png": "[encoded data removed]",
      "text/plain": [
       "<Figure size 900x900 with 9 Axes>"
      ]
     },
     "metadata": {},
     "output_type": "display_data"
    }
   ],
   "source": [
    "x_Train_b = np.zeros((100, 28, 28), dtype=np.uint8)\n",
    "binarize_grayimg(x_Train, 30, 100, x_Train_b)\n",
    "\n",
    "fig = plt.figure(figsize=(9,9))\n",
    "\n",
    "for i in range(9):\n",
    "  plt.subplot(3,3,i+1)\n",
    "  num = i#random.randint(0, len(x_Train))\n",
    "  plt.imshow(x_Train_b[num], cmap=\"gray\", interpolation=None)\n",
    "  plt.title(y_Train[num])\n",
    "\n",
    "plt.tight_layout()"
   ]
  },
  {
   "cell_type": "code",
   "execution_count": 13,
   "metadata": {
    "colab": {
     "base_uri": "https://localhost:8080/",
     "height": 695
    },
    "executionInfo": {
     "elapsed": 1931,
     "status": "ok",
     "timestamp": 1711683855437,
     "user": {
      "displayName": "林阿立",
      "userId": "02625591185846790567"
     },
     "user_tz": -480
    },
    "id": "oGRY-T7AOjZk",
    "outputId": "b23a1ed5-7f97-4a91-e860-f9eb18722bee"
   },
   "outputs": [
    {
     "data": {
      "image/png": "[encoded data removed]",
      "text/plain": [
       "<Figure size 900x900 with 9 Axes>"
      ]
     },
     "metadata": {},
     "output_type": "display_data"
    }
   ],
   "source": [
    "fig = plt.figure(figsize=(9,9))\n",
    "\n",
    "for i in range(9):\n",
    "  plt.subplot(3,3,i+1)\n",
    "  num = i#random.randint(0, len(x_Train))\n",
    "  plt.imshow(x_Train[num], cmap=\"gray\", interpolation=None)\n",
    "  plt.title(y_Train[num])\n",
    "\n",
    "plt.tight_layout()"
   ]
  },
  {
   "cell_type": "code",
   "execution_count": 14,
   "metadata": {},
   "outputs": [
    {
     "data": {
      "text/plain": [
       "<matplotlib.image.AxesImage at 0x1eb4d9e56d0>"
      ]
     },
     "execution_count": 14,
     "metadata": {},
     "output_type": "execute_result"
    },
    {
     "data": {
      "image/png": "[encoded data removed]",
      "text/plain": [
       "<Figure size 640x480 with 1 Axes>"
      ]
     },
     "metadata": {},
     "output_type": "display_data"
    }
   ],
   "source": [
    "plt.imshow(x_Train[0], cmap=\"gray\", interpolation=None)"
   ]
  },
  {
   "cell_type": "code",
   "execution_count": 45,
   "metadata": {
    "executionInfo": {
     "elapsed": 380,
     "status": "ok",
     "timestamp": 1711683855814,
     "user": {
      "displayName": "林阿立",
      "userId": "02625591185846790567"
     },
     "user_tz": -480
    },
    "id": "LfkxeeG9strj"
   },
   "outputs": [],
   "source": [
    "x_Train_b = np.zeros((len(x_Train), 28, 28), dtype=np.uint8)\n",
    "binarize_grayimg(x_Train, 30, len(x_Train), x_Train_b)\n",
    "\n",
    "x_Test_b = np.zeros((len(x_Test), 28, 28), dtype=np.uint8)\n",
    "binarize_grayimg(x_Test, 30, len(x_Test), x_Test_b)\n",
    "\n",
    "x_Train4D=x_Train_b.reshape(x_Train_b.shape[0],28,28,1).astype('float32')\n",
    "x_Test4D=x_Test_b.reshape(x_Test_b.shape[0],28,28,1).astype('float32')\n",
    "x_Train4D_normalize = x_Train4D / 255\n",
    "x_Test4D_normalize = x_Test4D / 255"
   ]
  },
  {
   "cell_type": "code",
   "execution_count": 46,
   "metadata": {
    "executionInfo": {
     "elapsed": 4,
     "status": "ok",
     "timestamp": 1711683855814,
     "user": {
      "displayName": "林阿立",
      "userId": "02625591185846790567"
     },
     "user_tz": -480
    },
    "id": "TXoEopQvtSiX"
   },
   "outputs": [],
   "source": [
    "y_TrainOneHot = tf.keras.utils.to_categorical(y_Train)\n",
    "y_TestOneHot = tf.keras.utils.to_categorical(y_Test)"
   ]
  },
  {
   "cell_type": "code",
   "execution_count": 49,
   "metadata": {},
   "outputs": [
    {
     "data": {
      "text/plain": [
       "(10000, 28, 28, 1)"
      ]
     },
     "execution_count": 49,
     "metadata": {},
     "output_type": "execute_result"
    }
   ],
   "source": [
    "(x_Train4D_normalize).shape\n",
    "(x_Test4D_normalize).shape"
   ]
  },
  {
   "cell_type": "markdown",
   "metadata": {},
   "source": [
    "## C. Standard Net Training\n",
    "- fdmobilenet\n",
    "- shufflenet"
   ]
  },
  {
   "cell_type": "code",
   "execution_count": 181,
   "metadata": {},
   "outputs": [],
   "source": [
    "from tf2cv.model_provider import get_model as tf2cv_get_model\n",
    "import tensorflow as tf"
   ]
  },
  {
   "cell_type": "code",
   "execution_count": 182,
   "metadata": {},
   "outputs": [],
   "source": [
    "def _unwrap_tf2cv_fdmobilenet(tf2cv_model, dropout_rate):\n",
    "            #tf2cv_model.trainable = False\n",
    "            # Be careful, this is basing on the structure of fdmobilenet from tf2cv\n",
    "            print(\"The total layers number: {}\".format(len(tf2cv_model.layers)))\n",
    "            base_model = tf2cv_model.layers[0]\n",
    "            print(\"The total children layers number: {}\".format(len(base_model.children)))\n",
    "            \n",
    "            # Change the AveragePooling2D to the GlobalAveragePooling2D for sutiable for all kernal size\n",
    "            base_model.children[5] = tf.keras.layers.GlobalAveragePooling2D()\n",
    "            \n",
    "            inp = tf.keras.Input(shape=(28, 28, 1))\n",
    "            x = inp\n",
    "            #training = None\n",
    "            x = base_model(x)\n",
    "            if dropout_rate > 0:\n",
    "                    x = tf.keras.layers.Dropout(dropout_rate, name=\"top_dropout\")(x)\n",
    "            x = tf.keras.layers.Dense(10, activation='softmax', use_bias=True, name='Logits')(x)\n",
    "\n",
    "            return tf.keras.Model(inp, x)\n",
    "\n",
    "def unwrap_tf2cv_shufflenet(tf2cv_model, dropout_rate):\n",
    "            #tf2cv_model.trainable = False\n",
    "            # Be careful, this is basing on the structure of shufflenet from tf2cv\n",
    "            print(\"The total layers number: {}\".format(len(tf2cv_model.layers)))\n",
    "            base_model = tf2cv_model.layers[0]\n",
    "            print(\"The total children layers number: {}\".format(len(base_model.children)))\n",
    "            print(\"The total children layers number of children 1: {}\".format(len(base_model.children[1].children)))\n",
    "            print(\"The total children layers number of children 2: {}\".format(len(base_model.children[2].children)))\n",
    "            print(\"The total children layers number of children 3: {}\".format(len(base_model.children[3].children)))\n",
    "            \n",
    "            # Change the AveragePooling2D to the GlobalAveragePooling2D for sutiable for all kernal size\n",
    "            base_model.children[4] = tf.keras.layers.GlobalAveragePooling2D()\n",
    "            \n",
    "            inp = tf.keras.Input(shape=(28, 28, 1))\n",
    "            x = inp\n",
    "            x = base_model(x)\n",
    "            if dropout_rate > 0:\n",
    "                    x = tf.keras.layers.Dropout(dropout_rate, name=\"top_dropout\")(x)\n",
    "            x = tf.keras.layers.Dense(10, activation='softmax', use_bias=True, name='Logits')(x)\n",
    "            return tf.keras.Model(inp, x)"
   ]
  },
  {
   "cell_type": "code",
   "execution_count": 183,
   "metadata": {
    "executionInfo": {
     "elapsed": 4,
     "status": "ok",
     "timestamp": 1711683855814,
     "user": {
      "displayName": "林阿立",
      "userId": "02625591185846790567"
     },
     "user_tz": -480
    },
    "id": "3CgLWAzoOdH0"
   },
   "outputs": [
    {
     "name": "stdout",
     "output_type": "stream",
     "text": [
      "The total layers number: 2\n",
      "The total children layers number: 6\n"
     ]
    }
   ],
   "source": [
    "net = tf2cv_get_model(\"fdmobilenet_wd4\", pretrained=False, data_format=\"channels_last\")\n",
    "custom_model = _unwrap_tf2cv_fdmobilenet(net, 0.2)\n",
    "\n",
    "#net = tf2cv_get_model(\"shufflenet_g1_wd4\", pretrained=False, data_format=\"channels_last\")\n",
    "#custom_model = unwrap_tf2cv_shufflenet(net, 0.2)"
   ]
  },
  {
   "cell_type": "code",
   "execution_count": 184,
   "metadata": {},
   "outputs": [
    {
     "name": "stdout",
     "output_type": "stream",
     "text": [
      "Model: \"model_9\"\n",
      "_________________________________________________________________\n",
      " Layer (type)                Output Shape              Param #   \n",
      "=================================================================\n",
      " input_14 (InputLayer)       [(None, 28, 28, 1)]       0         \n",
      "                                                                 \n",
      " features (SimpleSequential)  (None, 256)              129952    \n",
      "                                                                 \n",
      " top_dropout (Dropout)       (None, 256)               0         \n",
      "                                                                 \n",
      " Logits (Dense)              (None, 10)                2570      \n",
      "                                                                 \n",
      "=================================================================\n",
      "Total params: 132,522\n",
      "Trainable params: 128,586\n",
      "Non-trainable params: 3,936\n",
      "_________________________________________________________________\n"
     ]
    }
   ],
   "source": [
    "custom_model.compile(optimizer=tf.keras.optimizers.Adam(learning_rate=0.04), #RMSprop(learning_rate=0.04)\n",
    "                #loss=tf.keras.losses.BinaryCrossentropy(from_logits=True),\n",
    "                loss=\"categorical_crossentropy\",\n",
    "                metrics=['accuracy'])          \n",
    "custom_model.summary()\n",
    "callbacks_reducelr = tf.keras.callbacks.ReduceLROnPlateau(monitor='val_accuracy', factor=0.5, patience=5, min_delta=0.005, mode='max', cooldown=3)\n"
   ]
  },
  {
   "cell_type": "code",
   "execution_count": 185,
   "metadata": {},
   "outputs": [
    {
     "name": "stdout",
     "output_type": "stream",
     "text": [
      "Epoch 1/70\n",
      "4320/4320 [==============================] - 28s 6ms/step - loss: 0.4972 - accuracy: 0.8430 - val_loss: 0.5160 - val_accuracy: 0.8372 - lr: 0.0400\n",
      "Epoch 2/70\n",
      "4320/4320 [==============================] - 28s 7ms/step - loss: 0.3083 - accuracy: 0.9035 - val_loss: 0.4508 - val_accuracy: 0.8642 - lr: 0.0400\n",
      "Epoch 3/70\n",
      "4320/4320 [==============================] - 26s 6ms/step - loss: 0.2669 - accuracy: 0.9158 - val_loss: 0.3750 - val_accuracy: 0.8820 - lr: 0.0400\n",
      "Epoch 4/70\n",
      "4320/4320 [==============================] - 26s 6ms/step - loss: 0.2443 - accuracy: 0.9224 - val_loss: 0.3165 - val_accuracy: 0.9028 - lr: 0.0400\n",
      "Epoch 5/70\n",
      "4320/4320 [==============================] - 25s 6ms/step - loss: 0.2302 - accuracy: 0.9265 - val_loss: 0.3238 - val_accuracy: 0.9029 - lr: 0.0400\n",
      "Epoch 6/70\n",
      "4320/4320 [==============================] - 25s 6ms/step - loss: 0.2224 - accuracy: 0.9287 - val_loss: 0.2839 - val_accuracy: 0.9131 - lr: 0.0400\n",
      "Epoch 7/70\n",
      "4320/4320 [==============================] - 25s 6ms/step - loss: 0.2151 - accuracy: 0.9309 - val_loss: 0.2951 - val_accuracy: 0.9085 - lr: 0.0400\n",
      "Epoch 8/70\n",
      "4320/4320 [==============================] - 26s 6ms/step - loss: 0.2104 - accuracy: 0.9323 - val_loss: 0.2920 - val_accuracy: 0.9135 - lr: 0.0400\n",
      "Epoch 9/70\n",
      "4320/4320 [==============================] - 25s 6ms/step - loss: 0.2083 - accuracy: 0.9335 - val_loss: 0.3057 - val_accuracy: 0.9042 - lr: 0.0400\n",
      "Epoch 10/70\n",
      "4320/4320 [==============================] - 27s 6ms/step - loss: 0.2037 - accuracy: 0.9347 - val_loss: 0.2979 - val_accuracy: 0.9120 - lr: 0.0400\n",
      "Epoch 11/70\n",
      "4320/4320 [==============================] - 26s 6ms/step - loss: 0.1999 - accuracy: 0.9358 - val_loss: 0.2799 - val_accuracy: 0.9159 - lr: 0.0400\n",
      "Epoch 12/70\n",
      "4320/4320 [==============================] - 26s 6ms/step - loss: 0.1769 - accuracy: 0.9422 - val_loss: 0.2430 - val_accuracy: 0.9240 - lr: 0.0200\n",
      "Epoch 13/70\n",
      "4320/4320 [==============================] - 27s 6ms/step - loss: 0.1739 - accuracy: 0.9427 - val_loss: 0.2574 - val_accuracy: 0.9227 - lr: 0.0200\n",
      "Epoch 14/70\n",
      "4320/4320 [==============================] - 25s 6ms/step - loss: 0.1718 - accuracy: 0.9433 - val_loss: 0.2379 - val_accuracy: 0.9261 - lr: 0.0200\n",
      "Epoch 15/70\n",
      "4320/4320 [==============================] - 26s 6ms/step - loss: 0.1706 - accuracy: 0.9438 - val_loss: 0.2669 - val_accuracy: 0.9198 - lr: 0.0200\n",
      "Epoch 16/70\n",
      "4320/4320 [==============================] - 26s 6ms/step - loss: 0.1695 - accuracy: 0.9441 - val_loss: 0.2395 - val_accuracy: 0.9268 - lr: 0.0200\n",
      "Epoch 17/70\n",
      "4320/4320 [==============================] - 26s 6ms/step - loss: 0.1683 - accuracy: 0.9444 - val_loss: 0.2768 - val_accuracy: 0.9211 - lr: 0.0200\n",
      "Epoch 18/70\n",
      "4320/4320 [==============================] - 26s 6ms/step - loss: 0.1671 - accuracy: 0.9448 - val_loss: 0.2457 - val_accuracy: 0.9238 - lr: 0.0200\n",
      "Epoch 19/70\n",
      "4320/4320 [==============================] - 26s 6ms/step - loss: 0.1564 - accuracy: 0.9478 - val_loss: 0.2227 - val_accuracy: 0.9333 - lr: 0.0100\n",
      "Epoch 20/70\n",
      "4320/4320 [==============================] - 26s 6ms/step - loss: 0.1548 - accuracy: 0.9481 - val_loss: 0.2231 - val_accuracy: 0.9323 - lr: 0.0100\n",
      "Epoch 21/70\n",
      "4320/4320 [==============================] - 29s 7ms/step - loss: 0.1534 - accuracy: 0.9484 - val_loss: 0.2327 - val_accuracy: 0.9312 - lr: 0.0100\n",
      "Epoch 22/70\n",
      "4320/4320 [==============================] - 28s 6ms/step - loss: 0.1532 - accuracy: 0.9485 - val_loss: 0.2184 - val_accuracy: 0.9350 - lr: 0.0100\n",
      "Epoch 23/70\n",
      "4320/4320 [==============================] - 28s 7ms/step - loss: 0.1521 - accuracy: 0.9488 - val_loss: 0.2185 - val_accuracy: 0.9330 - lr: 0.0100\n",
      "Epoch 24/70\n",
      "4320/4320 [==============================] - 28s 7ms/step - loss: 0.1519 - accuracy: 0.9489 - val_loss: 0.2293 - val_accuracy: 0.9333 - lr: 0.0100\n",
      "Epoch 25/70\n",
      "4320/4320 [==============================] - 29s 7ms/step - loss: 0.1511 - accuracy: 0.9490 - val_loss: 0.2179 - val_accuracy: 0.9337 - lr: 0.0100\n",
      "Epoch 26/70\n",
      "4320/4320 [==============================] - 26s 6ms/step - loss: 0.1454 - accuracy: 0.9507 - val_loss: 0.2206 - val_accuracy: 0.9336 - lr: 0.0050\n",
      "Epoch 27/70\n",
      "4320/4320 [==============================] - 25s 6ms/step - loss: 0.1446 - accuracy: 0.9508 - val_loss: 0.2164 - val_accuracy: 0.9355 - lr: 0.0050\n",
      "Epoch 28/70\n",
      "4320/4320 [==============================] - 25s 6ms/step - loss: 0.1443 - accuracy: 0.9509 - val_loss: 0.2145 - val_accuracy: 0.9351 - lr: 0.0050\n",
      "Epoch 29/70\n",
      "4320/4320 [==============================] - 25s 6ms/step - loss: 0.1440 - accuracy: 0.9510 - val_loss: 0.2145 - val_accuracy: 0.9362 - lr: 0.0050\n",
      "Epoch 30/70\n",
      "4320/4320 [==============================] - 25s 6ms/step - loss: 0.1439 - accuracy: 0.9512 - val_loss: 0.2012 - val_accuracy: 0.9392 - lr: 0.0050\n",
      "Epoch 31/70\n",
      "4320/4320 [==============================] - 25s 6ms/step - loss: 0.1435 - accuracy: 0.9513 - val_loss: 0.2187 - val_accuracy: 0.9353 - lr: 0.0050\n",
      "Epoch 32/70\n",
      "4320/4320 [==============================] - 26s 6ms/step - loss: 0.1430 - accuracy: 0.9515 - val_loss: 0.2097 - val_accuracy: 0.9371 - lr: 0.0050\n",
      "Epoch 33/70\n",
      "4320/4320 [==============================] - 27s 6ms/step - loss: 0.1428 - accuracy: 0.9514 - val_loss: 0.2181 - val_accuracy: 0.9352 - lr: 0.0050\n",
      "Epoch 34/70\n",
      "4320/4320 [==============================] - 26s 6ms/step - loss: 0.1426 - accuracy: 0.9512 - val_loss: 0.2055 - val_accuracy: 0.9377 - lr: 0.0050\n",
      "Epoch 35/70\n",
      "4320/4320 [==============================] - 28s 6ms/step - loss: 0.1425 - accuracy: 0.9514 - val_loss: 0.2102 - val_accuracy: 0.9379 - lr: 0.0050\n",
      "Epoch 36/70\n",
      "4320/4320 [==============================] - 31s 7ms/step - loss: 0.1395 - accuracy: 0.9522 - val_loss: 0.2152 - val_accuracy: 0.9359 - lr: 0.0025\n",
      "Epoch 37/70\n",
      "4320/4320 [==============================] - 28s 7ms/step - loss: 0.1391 - accuracy: 0.9523 - val_loss: 0.2130 - val_accuracy: 0.9365 - lr: 0.0025\n",
      "Epoch 38/70\n",
      "4320/4320 [==============================] - 28s 6ms/step - loss: 0.1391 - accuracy: 0.9525 - val_loss: 0.2077 - val_accuracy: 0.9373 - lr: 0.0025\n",
      "Epoch 39/70\n",
      "4320/4320 [==============================] - 28s 6ms/step - loss: 0.1386 - accuracy: 0.9525 - val_loss: 0.2126 - val_accuracy: 0.9367 - lr: 0.0025\n",
      "Epoch 40/70\n",
      "4320/4320 [==============================] - 25s 6ms/step - loss: 0.1388 - accuracy: 0.9525 - val_loss: 0.2185 - val_accuracy: 0.9355 - lr: 0.0025\n",
      "Epoch 41/70\n",
      "4320/4320 [==============================] - 26s 6ms/step - loss: 0.1388 - accuracy: 0.9525 - val_loss: 0.2099 - val_accuracy: 0.9376 - lr: 0.0025\n",
      "Epoch 42/70\n",
      "4320/4320 [==============================] - 26s 6ms/step - loss: 0.1385 - accuracy: 0.9524 - val_loss: 0.2132 - val_accuracy: 0.9379 - lr: 0.0025\n",
      "Epoch 43/70\n",
      "4320/4320 [==============================] - 26s 6ms/step - loss: 0.1371 - accuracy: 0.9529 - val_loss: 0.2109 - val_accuracy: 0.9379 - lr: 0.0012\n",
      "Epoch 44/70\n",
      "4320/4320 [==============================] - 26s 6ms/step - loss: 0.1365 - accuracy: 0.9531 - val_loss: 0.2115 - val_accuracy: 0.9376 - lr: 0.0012\n",
      "Epoch 45/70\n",
      "4320/4320 [==============================] - 25s 6ms/step - loss: 0.1370 - accuracy: 0.9530 - val_loss: 0.2116 - val_accuracy: 0.9374 - lr: 0.0012\n",
      "Epoch 46/70\n",
      "4320/4320 [==============================] - 25s 6ms/step - loss: 0.1365 - accuracy: 0.9531 - val_loss: 0.2151 - val_accuracy: 0.9363 - lr: 0.0012\n",
      "Epoch 47/70\n",
      "4320/4320 [==============================] - 25s 6ms/step - loss: 0.1364 - accuracy: 0.9531 - val_loss: 0.2201 - val_accuracy: 0.9351 - lr: 0.0012\n",
      "Epoch 48/70\n",
      "4320/4320 [==============================] - 25s 6ms/step - loss: 0.1362 - accuracy: 0.9532 - val_loss: 0.2143 - val_accuracy: 0.9368 - lr: 0.0012\n",
      "Epoch 49/70\n",
      "4320/4320 [==============================] - 29s 7ms/step - loss: 0.1361 - accuracy: 0.9531 - val_loss: 0.2112 - val_accuracy: 0.9387 - lr: 0.0012\n",
      "Epoch 50/70\n",
      "4320/4320 [==============================] - 26s 6ms/step - loss: 0.1357 - accuracy: 0.9534 - val_loss: 0.2199 - val_accuracy: 0.9361 - lr: 6.2500e-04\n",
      "Epoch 51/70\n",
      "4320/4320 [==============================] - 28s 6ms/step - loss: 0.1355 - accuracy: 0.9534 - val_loss: 0.2131 - val_accuracy: 0.9374 - lr: 6.2500e-04\n",
      "Epoch 52/70\n",
      "4320/4320 [==============================] - 29s 7ms/step - loss: 0.1351 - accuracy: 0.9536 - val_loss: 0.2153 - val_accuracy: 0.9374 - lr: 6.2500e-04\n",
      "Epoch 53/70\n",
      "4320/4320 [==============================] - 26s 6ms/step - loss: 0.1353 - accuracy: 0.9535 - val_loss: 0.2128 - val_accuracy: 0.9375 - lr: 6.2500e-04\n",
      "Epoch 54/70\n",
      "4320/4320 [==============================] - 26s 6ms/step - loss: 0.1349 - accuracy: 0.9535 - val_loss: 0.2117 - val_accuracy: 0.9379 - lr: 6.2500e-04\n",
      "Epoch 55/70\n",
      "4320/4320 [==============================] - 25s 6ms/step - loss: 0.1351 - accuracy: 0.9535 - val_loss: 0.2114 - val_accuracy: 0.9379 - lr: 6.2500e-04\n",
      "Epoch 56/70\n",
      "4320/4320 [==============================] - 26s 6ms/step - loss: 0.1353 - accuracy: 0.9536 - val_loss: 0.2118 - val_accuracy: 0.9379 - lr: 6.2500e-04\n",
      "Epoch 57/70\n",
      "4320/4320 [==============================] - 25s 6ms/step - loss: 0.1346 - accuracy: 0.9537 - val_loss: 0.2245 - val_accuracy: 0.9354 - lr: 3.1250e-04\n",
      "Epoch 58/70\n",
      "4320/4320 [==============================] - 25s 6ms/step - loss: 0.1346 - accuracy: 0.9536 - val_loss: 0.2130 - val_accuracy: 0.9376 - lr: 3.1250e-04\n",
      "Epoch 59/70\n",
      "4320/4320 [==============================] - 25s 6ms/step - loss: 0.1348 - accuracy: 0.9536 - val_loss: 0.2119 - val_accuracy: 0.9379 - lr: 3.1250e-04\n",
      "Epoch 60/70\n",
      "4320/4320 [==============================] - 24s 6ms/step - loss: 0.1345 - accuracy: 0.9536 - val_loss: 0.2184 - val_accuracy: 0.9363 - lr: 3.1250e-04\n",
      "Epoch 61/70\n",
      "4320/4320 [==============================] - 25s 6ms/step - loss: 0.1347 - accuracy: 0.9535 - val_loss: 0.2173 - val_accuracy: 0.9363 - lr: 3.1250e-04\n",
      "Epoch 62/70\n",
      "4320/4320 [==============================] - 24s 6ms/step - loss: 0.1346 - accuracy: 0.9538 - val_loss: 0.2148 - val_accuracy: 0.9371 - lr: 3.1250e-04\n",
      "Epoch 63/70\n",
      "4320/4320 [==============================] - 25s 6ms/step - loss: 0.1347 - accuracy: 0.9537 - val_loss: 0.2120 - val_accuracy: 0.9373 - lr: 3.1250e-04\n",
      "Epoch 64/70\n",
      "4320/4320 [==============================] - 28s 7ms/step - loss: 0.1344 - accuracy: 0.9537 - val_loss: 0.2156 - val_accuracy: 0.9372 - lr: 1.5625e-04\n",
      "Epoch 65/70\n",
      "4320/4320 [==============================] - 26s 6ms/step - loss: 0.1347 - accuracy: 0.9538 - val_loss: 0.2140 - val_accuracy: 0.9373 - lr: 1.5625e-04\n",
      "Epoch 66/70\n",
      "4320/4320 [==============================] - 31s 7ms/step - loss: 0.1345 - accuracy: 0.9536 - val_loss: 0.2126 - val_accuracy: 0.9376 - lr: 1.5625e-04\n",
      "Epoch 67/70\n",
      "4320/4320 [==============================] - 28s 7ms/step - loss: 0.1343 - accuracy: 0.9537 - val_loss: 0.2104 - val_accuracy: 0.9384 - lr: 1.5625e-04\n",
      "Epoch 68/70\n",
      "4320/4320 [==============================] - 26s 6ms/step - loss: 0.1342 - accuracy: 0.9536 - val_loss: 0.2121 - val_accuracy: 0.9379 - lr: 1.5625e-04\n",
      "Epoch 69/70\n",
      "4320/4320 [==============================] - 27s 6ms/step - loss: 0.1343 - accuracy: 0.9537 - val_loss: 0.2144 - val_accuracy: 0.9370 - lr: 1.5625e-04\n",
      "Epoch 70/70\n",
      "4320/4320 [==============================] - 27s 6ms/step - loss: 0.1342 - accuracy: 0.9537 - val_loss: 0.2126 - val_accuracy: 0.9377 - lr: 1.5625e-04\n"
     ]
    }
   ],
   "source": [
    "history = custom_model.fit(x=x_Train4D_normalize,y=y_TrainOneHot, verbose=1,\n",
    "                                          epochs=70, validation_split=0.1,\n",
    "                                          callbacks=[callbacks_reducelr],\n",
    "                                          batch_size=200)"
   ]
  },
  {
   "cell_type": "code",
   "execution_count": 186,
   "metadata": {},
   "outputs": [],
   "source": [
    "import matplotlib.pyplot as plt\n",
    "def show_train_history(train_history, train, validation):\n",
    "    plt.plot(train_history.history[train])\n",
    "    plt.plot(train_history.history[validation])\n",
    "    plt.title('Train History')\n",
    "    plt.ylabel('train')\n",
    "    plt.xlabel('Epoch')\n",
    "    plt.legend(['train', 'validation'], loc='center right')\n",
    "    plt.show()"
   ]
  },
  {
   "cell_type": "code",
   "execution_count": 187,
   "metadata": {},
   "outputs": [
    {
     "data": {
      "image/png": "[encoded data removed]",
      "text/plain": [
       "<Figure size 640x480 with 1 Axes>"
      ]
     },
     "metadata": {},
     "output_type": "display_data"
    }
   ],
   "source": [
    "show_train_history(history, 'accuracy', 'val_accuracy')"
   ]
  },
  {
   "cell_type": "code",
   "execution_count": 188,
   "metadata": {},
   "outputs": [
    {
     "name": "stdout",
     "output_type": "stream",
     "text": [
      "5000/5000 [==============================] - 14s 3ms/step - loss: 0.1636 - accuracy: 0.9464\n"
     ]
    },
    {
     "data": {
      "text/plain": [
       "0.9463812708854675"
      ]
     },
     "execution_count": 188,
     "metadata": {},
     "output_type": "execute_result"
    }
   ],
   "source": [
    "scores = custom_model.evaluate(x_Test4D_normalize, y_TestOneHot)\n",
    "scores[1]"
   ]
  },
  {
   "cell_type": "markdown",
   "metadata": {},
   "source": [
    "## C. Save to tflite"
   ]
  },
  {
   "cell_type": "code",
   "execution_count": 189,
   "metadata": {},
   "outputs": [
    {
     "name": "stderr",
     "output_type": "stream",
     "text": [
      "C:\\ProgramData\\miniforge3\\envs\\NuEdgeWise_env\\lib\\site-packages\\tensorflow\\lite\\python\\convert.py:766: UserWarning: Statistics for quantized inputs were expected, but not specified; continuing anyway.\n",
      "  warnings.warn(\"Statistics for quantized inputs were expected, but not \"\n"
     ]
    }
   ],
   "source": [
    "def representative_dataset():\n",
    " #    for _ in range(100):\n",
    " #     data = np.random.rand(1, 244, 244, 3)\n",
    " #     yield [data.astype(np.float32)]\n",
    "  for data in tf.data.Dataset.from_tensor_slices((x_Test4D_normalize)).batch(1).take(200):\n",
    "   yield [tf.dtypes.cast(data, tf.float32)]\n",
    "\n",
    "\n",
    "# Convert the model.\n",
    "converter = tf.lite.TFLiteConverter.from_keras_model(custom_model)\n",
    "converter.optimizations = [tf.lite.Optimize.DEFAULT]\n",
    "converter.representative_dataset = representative_dataset\n",
    "converter.target_spec.supported_ops = [tf.lite.OpsSet.TFLITE_BUILTINS_INT8]\n",
    "converter.inference_input_type = tf.int8  # or tf.uint8\n",
    "converter.inference_output_type = tf.int8  # or tf.uint8\n",
    "tflite_quant_model = converter.convert()\n",
    "\n",
    "# Save the model.\n",
    "with open('./MNIST_fdmobilenet_wd4.tflite', 'wb') as f:\n",
    "#with open('./MNIST_shufflenet_g1_wd4.tflite', 'wb') as f:\n",
    "  f.write(tflite_quant_model)      "
   ]
  },
  {
   "cell_type": "code",
   "execution_count": null,
   "metadata": {},
   "outputs": [],
   "source": []
  }
 ],
 "metadata": {
  "accelerator": "GPU",
  "colab": {
   "authorship_tag": "ABX9TyORGEQbZXnE4Tzt0UckOPSd",
   "gpuType": "T4",
   "provenance": [
    {
     "file_id": "1bXlWJ1C2KdEoaQg8boIVqz3qb7b1PDts",
     "timestamp": 1709279792275
    }
   ]
  },
  "kernelspec": {
   "display_name": "Python 3 (ipykernel)",
   "language": "python",
   "name": "python3"
  },
  "language_info": {
   "codemirror_mode": {
    "name": "ipython",
    "version": 3
   },
   "file_extension": ".py",
   "mimetype": "text/x-python",
   "name": "python",
   "nbconvert_exporter": "python",
   "pygments_lexer": "ipython3",
   "version": "3.8.13"
  }
 },
 "nbformat": 4,
 "nbformat_minor": 4
}
